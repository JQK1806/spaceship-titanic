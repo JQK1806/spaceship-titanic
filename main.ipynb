{
 "cells": [
  {
   "cell_type": "code",
   "execution_count": null,
   "id": "e4514a45",
   "metadata": {},
   "outputs": [],
   "source": [
    "# Import necessary libraries\n",
    "import pandas as pd\n",
    "import numpy as np\n",
    "import matplotlib.pyplot as plt\n",
    "import seaborn as sns"
   ]
  },
  {
   "cell_type": "code",
   "execution_count": null,
   "id": "92a478d9",
   "metadata": {},
   "outputs": [],
   "source": [
    "# Load in data\n",
    "df_train = pd.read_csv('data/train.csv')\n",
    "df_test = pd.read_csv('data/test.csv')\n",
    "df_test['Transported'] = False"
   ]
  },
  {
   "cell_type": "code",
   "execution_count": null,
   "id": "2f7b7168",
   "metadata": {},
   "outputs": [],
   "source": [
    "# Concat and check\n",
    "df = pd.concat([df_train, df_test], sort=False)\n",
    "df.shape[0] == df_train.shape[0] + df_test.shape[0]\n",
    "df.head()"
   ]
  },
  {
   "cell_type": "code",
   "execution_count": null,
   "id": "dbe0fb2f",
   "metadata": {},
   "outputs": [],
   "source": [
    "# Drop name column (not needed for outcome)\n",
    "df.drop(['Name'], axis=1, inplace=True)"
   ]
  },
  {
   "cell_type": "code",
   "execution_count": null,
   "id": "3794c3c3",
   "metadata": {},
   "outputs": [],
   "source": [
    "# Check for na values\n",
    "df.isna().sum()"
   ]
  },
  {
   "cell_type": "markdown",
   "id": "bcd7d88a",
   "metadata": {},
   "source": [
    "### Categorical na values"
   ]
  },
  {
   "cell_type": "code",
   "execution_count": null,
   "id": "ef985883",
   "metadata": {},
   "outputs": [],
   "source": [
    "# Fill categorical na values with mode\n",
    "for col in ['HomePlanet', 'Destination', 'CryoSleep', 'VIP']:\n",
    "    df[col] = df[col].fillna(df[col].mode()[0])\n",
    "df.isna().sum()"
   ]
  },
  {
   "cell_type": "code",
   "execution_count": null,
   "id": "69afa384",
   "metadata": {},
   "outputs": [],
   "source": [
    "# Encode booleans\n",
    "df['CryoSleep'] = df['CryoSleep'].map({\n",
    "    True: 1, False: 0\n",
    "})\n",
    "\n",
    "df['VIP'] = df['VIP'].map({\n",
    "    True: 1, False: 0\n",
    "})"
   ]
  },
  {
   "cell_type": "code",
   "execution_count": null,
   "id": "0ed2de4d",
   "metadata": {},
   "outputs": [],
   "source": [
    "# Split 'Cabin' into Deck, Num, and Side and fill na\n",
    "df[['Deck', 'Num', 'Side']] = df['Cabin'].str.split('/', expand=True)\n",
    "df = df.drop(columns=['Cabin'])\n",
    "df['Deck'] = df['Deck'].fillna('U')\n",
    "df['Num'] = df['Num'].fillna(-1)\n",
    "df['Side'] = df['Side'].fillna('U')\n",
    "df.head()"
   ]
  },
  {
   "cell_type": "code",
   "execution_count": null,
   "id": "7f3cbe85",
   "metadata": {},
   "outputs": [],
   "source": [
    "# Encoding\n",
    "df = pd.get_dummies(df, columns=['HomePlanet', 'Destination', 'Deck', 'Side'])"
   ]
  },
  {
   "cell_type": "code",
   "execution_count": null,
   "id": "c332dd01",
   "metadata": {},
   "outputs": [],
   "source": [
    "# Check for missed na values\n",
    "df.isna().sum()"
   ]
  },
  {
   "cell_type": "markdown",
   "id": "5df4727a",
   "metadata": {},
   "source": [
    "### Numberical na values"
   ]
  },
  {
   "cell_type": "code",
   "execution_count": null,
   "id": "fe57d2f0",
   "metadata": {},
   "outputs": [],
   "source": [
    "for col in ['Age', 'RoomService', 'FoodCourt', 'ShoppingMall', 'Spa', 'VRDeck']:\n",
    "    df[col] = df[col].fillna(df[col].median())"
   ]
  },
  {
   "cell_type": "code",
   "execution_count": null,
   "id": "cb51c6ec",
   "metadata": {},
   "outputs": [],
   "source": [
    "# Check for missed na values\n",
    "df.isna().sum()"
   ]
  },
  {
   "cell_type": "markdown",
   "id": "40184d33",
   "metadata": {},
   "source": [
    "### Feature Engineering"
   ]
  }
 ],
 "metadata": {
  "kernelspec": {
   "display_name": "venv",
   "language": "python",
   "name": "python3"
  },
  "language_info": {
   "codemirror_mode": {
    "name": "ipython",
    "version": 3
   },
   "file_extension": ".py",
   "mimetype": "text/x-python",
   "name": "python",
   "nbconvert_exporter": "python",
   "pygments_lexer": "ipython3",
   "version": "3.11.6"
  }
 },
 "nbformat": 4,
 "nbformat_minor": 5
}
